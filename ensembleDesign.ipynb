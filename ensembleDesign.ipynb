{
 "cells": [
  {
   "cell_type": "code",
   "execution_count": 14,
   "metadata": {},
   "outputs": [],
   "source": [
    "import pandas as pd\n",
    "import numpy as np\n",
    "import time\n",
    "import matplotlib.pyplot as plt\n",
    "from sklearn.model_selection import train_test_split\n",
    "from sklearn import preprocessing\n",
    "from sklearn.linear_model import Ridge, HuberRegressor\n",
    "from sklearn.ensemble import RandomForestRegressor\n",
    "from sklearn.metrics import mean_squared_error, r2_score, mean_absolute_error\n",
    "from sklearn.model_selection import KFold\n",
    "\n",
    "import warnings\n",
    "warnings.filterwarnings(\"ignore\")"
   ]
  },
  {
   "cell_type": "markdown",
   "metadata": {},
   "source": [
    "## 1.0 Data"
   ]
  },
  {
   "cell_type": "code",
   "execution_count": 2,
   "metadata": {},
   "outputs": [
    {
     "data": {
      "text/html": [
       "<div>\n",
       "<style scoped>\n",
       "    .dataframe tbody tr th:only-of-type {\n",
       "        vertical-align: middle;\n",
       "    }\n",
       "\n",
       "    .dataframe tbody tr th {\n",
       "        vertical-align: top;\n",
       "    }\n",
       "\n",
       "    .dataframe thead th {\n",
       "        text-align: right;\n",
       "    }\n",
       "</style>\n",
       "<table border=\"1\" class=\"dataframe\">\n",
       "  <thead>\n",
       "    <tr style=\"text-align: right;\">\n",
       "      <th></th>\n",
       "      <th>latitude</th>\n",
       "      <th>longitude</th>\n",
       "      <th>price</th>\n",
       "      <th>minimum_nights</th>\n",
       "      <th>number_of_reviews</th>\n",
       "      <th>last_review</th>\n",
       "      <th>reviews_per_month</th>\n",
       "      <th>calculated_host_listings_count</th>\n",
       "      <th>all_year_avail</th>\n",
       "      <th>low_avail</th>\n",
       "      <th>...</th>\n",
       "      <th>neighbourhood_Williamsburg</th>\n",
       "      <th>neighbourhood_Willowbrook</th>\n",
       "      <th>neighbourhood_Windsor Terrace</th>\n",
       "      <th>neighbourhood_Woodhaven</th>\n",
       "      <th>neighbourhood_Woodlawn</th>\n",
       "      <th>neighbourhood_Woodrow</th>\n",
       "      <th>neighbourhood_Woodside</th>\n",
       "      <th>room_type_Entire home/apt</th>\n",
       "      <th>room_type_Private room</th>\n",
       "      <th>room_type_Shared room</th>\n",
       "    </tr>\n",
       "  </thead>\n",
       "  <tbody>\n",
       "    <tr>\n",
       "      <th>0</th>\n",
       "      <td>40.64749</td>\n",
       "      <td>-73.97237</td>\n",
       "      <td>5.010635</td>\n",
       "      <td>1</td>\n",
       "      <td>9</td>\n",
       "      <td>2762</td>\n",
       "      <td>0.21</td>\n",
       "      <td>6</td>\n",
       "      <td>True</td>\n",
       "      <td>False</td>\n",
       "      <td>...</td>\n",
       "      <td>0</td>\n",
       "      <td>0</td>\n",
       "      <td>0</td>\n",
       "      <td>0</td>\n",
       "      <td>0</td>\n",
       "      <td>0</td>\n",
       "      <td>0</td>\n",
       "      <td>0</td>\n",
       "      <td>1</td>\n",
       "      <td>0</td>\n",
       "    </tr>\n",
       "    <tr>\n",
       "      <th>1</th>\n",
       "      <td>40.75362</td>\n",
       "      <td>-73.98377</td>\n",
       "      <td>5.420535</td>\n",
       "      <td>1</td>\n",
       "      <td>45</td>\n",
       "      <td>2976</td>\n",
       "      <td>0.38</td>\n",
       "      <td>2</td>\n",
       "      <td>True</td>\n",
       "      <td>False</td>\n",
       "      <td>...</td>\n",
       "      <td>0</td>\n",
       "      <td>0</td>\n",
       "      <td>0</td>\n",
       "      <td>0</td>\n",
       "      <td>0</td>\n",
       "      <td>0</td>\n",
       "      <td>0</td>\n",
       "      <td>1</td>\n",
       "      <td>0</td>\n",
       "      <td>0</td>\n",
       "    </tr>\n",
       "    <tr>\n",
       "      <th>2</th>\n",
       "      <td>40.80902</td>\n",
       "      <td>-73.94190</td>\n",
       "      <td>5.017280</td>\n",
       "      <td>3</td>\n",
       "      <td>0</td>\n",
       "      <td>0</td>\n",
       "      <td>0.00</td>\n",
       "      <td>1</td>\n",
       "      <td>True</td>\n",
       "      <td>False</td>\n",
       "      <td>...</td>\n",
       "      <td>0</td>\n",
       "      <td>0</td>\n",
       "      <td>0</td>\n",
       "      <td>0</td>\n",
       "      <td>0</td>\n",
       "      <td>0</td>\n",
       "      <td>0</td>\n",
       "      <td>0</td>\n",
       "      <td>1</td>\n",
       "      <td>0</td>\n",
       "    </tr>\n",
       "    <tr>\n",
       "      <th>3</th>\n",
       "      <td>40.68514</td>\n",
       "      <td>-73.95976</td>\n",
       "      <td>4.499810</td>\n",
       "      <td>1</td>\n",
       "      <td>270</td>\n",
       "      <td>3021</td>\n",
       "      <td>4.64</td>\n",
       "      <td>1</td>\n",
       "      <td>False</td>\n",
       "      <td>False</td>\n",
       "      <td>...</td>\n",
       "      <td>0</td>\n",
       "      <td>0</td>\n",
       "      <td>0</td>\n",
       "      <td>0</td>\n",
       "      <td>0</td>\n",
       "      <td>0</td>\n",
       "      <td>0</td>\n",
       "      <td>1</td>\n",
       "      <td>0</td>\n",
       "      <td>0</td>\n",
       "    </tr>\n",
       "    <tr>\n",
       "      <th>4</th>\n",
       "      <td>40.79851</td>\n",
       "      <td>-73.94399</td>\n",
       "      <td>4.394449</td>\n",
       "      <td>10</td>\n",
       "      <td>9</td>\n",
       "      <td>2793</td>\n",
       "      <td>0.10</td>\n",
       "      <td>1</td>\n",
       "      <td>False</td>\n",
       "      <td>True</td>\n",
       "      <td>...</td>\n",
       "      <td>0</td>\n",
       "      <td>0</td>\n",
       "      <td>0</td>\n",
       "      <td>0</td>\n",
       "      <td>0</td>\n",
       "      <td>0</td>\n",
       "      <td>0</td>\n",
       "      <td>1</td>\n",
       "      <td>0</td>\n",
       "      <td>0</td>\n",
       "    </tr>\n",
       "  </tbody>\n",
       "</table>\n",
       "<p>5 rows × 240 columns</p>\n",
       "</div>"
      ],
      "text/plain": [
       "   latitude  longitude     price  minimum_nights  number_of_reviews  \\\n",
       "0  40.64749  -73.97237  5.010635               1                  9   \n",
       "1  40.75362  -73.98377  5.420535               1                 45   \n",
       "2  40.80902  -73.94190  5.017280               3                  0   \n",
       "3  40.68514  -73.95976  4.499810               1                270   \n",
       "4  40.79851  -73.94399  4.394449              10                  9   \n",
       "\n",
       "   last_review  reviews_per_month  calculated_host_listings_count  \\\n",
       "0         2762               0.21                               6   \n",
       "1         2976               0.38                               2   \n",
       "2            0               0.00                               1   \n",
       "3         3021               4.64                               1   \n",
       "4         2793               0.10                               1   \n",
       "\n",
       "   all_year_avail  low_avail  ...  neighbourhood_Williamsburg  \\\n",
       "0            True      False  ...                           0   \n",
       "1            True      False  ...                           0   \n",
       "2            True      False  ...                           0   \n",
       "3           False      False  ...                           0   \n",
       "4           False       True  ...                           0   \n",
       "\n",
       "   neighbourhood_Willowbrook  neighbourhood_Windsor Terrace  \\\n",
       "0                          0                              0   \n",
       "1                          0                              0   \n",
       "2                          0                              0   \n",
       "3                          0                              0   \n",
       "4                          0                              0   \n",
       "\n",
       "   neighbourhood_Woodhaven  neighbourhood_Woodlawn  neighbourhood_Woodrow  \\\n",
       "0                        0                       0                      0   \n",
       "1                        0                       0                      0   \n",
       "2                        0                       0                      0   \n",
       "3                        0                       0                      0   \n",
       "4                        0                       0                      0   \n",
       "\n",
       "   neighbourhood_Woodside  room_type_Entire home/apt  room_type_Private room  \\\n",
       "0                       0                          0                       1   \n",
       "1                       0                          1                       0   \n",
       "2                       0                          0                       1   \n",
       "3                       0                          1                       0   \n",
       "4                       0                          1                       0   \n",
       "\n",
       "   room_type_Shared room  \n",
       "0                      0  \n",
       "1                      0  \n",
       "2                      0  \n",
       "3                      0  \n",
       "4                      0  \n",
       "\n",
       "[5 rows x 240 columns]"
      ]
     },
     "execution_count": 2,
     "metadata": {},
     "output_type": "execute_result"
    }
   ],
   "source": [
    "data = pd.read_csv('input/processed_data_nyc.csv', index_col = 0)\n",
    "data.head()"
   ]
  },
  {
   "cell_type": "code",
   "execution_count": 3,
   "metadata": {},
   "outputs": [],
   "source": [
    "y = data.price\n",
    "data = data.drop(['price'], axis=1)\n",
    "\n",
    "X = np.asarray(data).astype(np.float32)\n",
    "y = np.asarray(y).ravel()"
   ]
  },
  {
   "cell_type": "markdown",
   "metadata": {},
   "source": [
    "Data Splitting"
   ]
  },
  {
   "cell_type": "code",
   "execution_count": 4,
   "metadata": {},
   "outputs": [
    {
     "name": "stdout",
     "output_type": "stream",
     "text": [
      "Training Dataset: (39014, 239)\n",
      "Testing Dataset: (9754, 239)\n"
     ]
    }
   ],
   "source": [
    "X_train, X_test, y_train, y_test = train_test_split(X, y, test_size=0.2, random_state=42)\n",
    "print(\"Training Dataset: {}\".format(X_train.shape))\n",
    "print(\"Testing Dataset: {}\".format(X_test.shape))"
   ]
  },
  {
   "cell_type": "markdown",
   "metadata": {},
   "source": [
    "Scaling Data:"
   ]
  },
  {
   "cell_type": "code",
   "execution_count": 5,
   "metadata": {},
   "outputs": [],
   "source": [
    "scaler = preprocessing.RobustScaler()\n",
    "X_train = scaler.fit_transform(X_train)\n",
    "X_test = scaler.fit_transform(X_test)"
   ]
  },
  {
   "cell_type": "markdown",
   "metadata": {},
   "source": [
    "## 2.0 Models\n",
    "\n",
    "Here, we combine the top models we tested in cross validation and we attempt to make an ensemble combination of them to hopefully achieve better results"
   ]
  },
  {
   "cell_type": "code",
   "execution_count": 6,
   "metadata": {},
   "outputs": [],
   "source": [
    "randomForest = RandomForestRegressor(n_estimators=50)\n",
    "ridge = Ridge(alpha=5)\n",
    "huber = HuberRegressor(alpha=10, epsilon=3, max_iter=1000)"
   ]
  },
  {
   "cell_type": "markdown",
   "metadata": {},
   "source": [
    "Let's try the best classifier on its own"
   ]
  },
  {
   "cell_type": "code",
   "execution_count": 7,
   "metadata": {},
   "outputs": [
    {
     "name": "stdout",
     "output_type": "stream",
     "text": [
      "Random forest mse = 0.1755652182613282\n"
     ]
    }
   ],
   "source": [
    "randomForest.fit(X_train, y_train)\n",
    "out_y = randomForest.predict(X_test)\n",
    "mse = mean_squared_error(y_test, out_y)\n",
    "print(\"Random forest mse = {}\".format(mse))"
   ]
  },
  {
   "cell_type": "markdown",
   "metadata": {},
   "source": [
    "Now let's try the best 2 classifiers"
   ]
  },
  {
   "cell_type": "code",
   "execution_count": 8,
   "metadata": {},
   "outputs": [
    {
     "name": "stdout",
     "output_type": "stream",
     "text": [
      "random forest MSE = 0.1766476578660399\n",
      "huber MSE = 0.19541675105718745\n",
      "Final MSE = 0.17356876440687005\n"
     ]
    }
   ],
   "source": [
    "randomForest.fit(X_train,y_train)\n",
    "huber.fit(X_train, y_train)\n",
    "\n",
    "out_y1 = randomForest.predict(X_test)\n",
    "mse1 = mean_squared_error(y_test, out_y1)\n",
    "print(\"random forest MSE = {}\".format(mse1))\n",
    "\n",
    "out_y2 = huber.predict(X_test)\n",
    "mse2 = mean_squared_error(y_test, out_y2)\n",
    "print(\"huber MSE = {}\".format(mse2))\n",
    "\n",
    "out_y = (out_y1 + out_y2)/2\n",
    "mse = mean_squared_error(y_test,out_y)\n",
    "print(\"Final MSE = {}\".format(mse))"
   ]
  },
  {
   "cell_type": "markdown",
   "metadata": {},
   "source": [
    "Now let's try adding the third classifier!"
   ]
  },
  {
   "cell_type": "code",
   "execution_count": 9,
   "metadata": {},
   "outputs": [
    {
     "name": "stdout",
     "output_type": "stream",
     "text": [
      "Ridge mse = 0.19563520765613698\n",
      "Final MSE = 0.17812616201200754\n"
     ]
    }
   ],
   "source": [
    "ridge.fit(X_train, y_train)\n",
    "\n",
    "out_y3 = ridge.predict(X_test)\n",
    "mse3 = mean_squared_error(y_test, out_y3)\n",
    "print(\"Ridge mse = {}\".format(mse3))\n",
    "\n",
    "out_y = (out_y1 + out_y2 + out_y3)/3\n",
    "mse = mean_squared_error(y_test,out_y)\n",
    "print(\"Final MSE = {}\".format(mse))"
   ]
  },
  {
   "cell_type": "markdown",
   "metadata": {},
   "source": [
    "Based on the increase of final mse, we conclude that the ridge classifier should not be used in this ensemble model. But what if we use more than one random forest or huber model?"
   ]
  },
  {
   "cell_type": "code",
   "execution_count": 10,
   "metadata": {},
   "outputs": [
    {
     "name": "stdout",
     "output_type": "stream",
     "text": [
      "random forest 1 MSE = 0.17549085851809917\n",
      "huber 1 MSE = 0.19541675105718745\n",
      "random forest 2 MSE = 0.17649253112290944\n",
      "huber 2 MSE = 0.19541675105718745\n",
      "random forest 3 MSE = 0.1765970759636616\n",
      "huber 3 MSE = 0.19541675105718745\n",
      "Final MSE = 0.17282650372522093\n"
     ]
    }
   ],
   "source": [
    "rf1 = RandomForestRegressor(n_estimators=50)\n",
    "huber1 = HuberRegressor(alpha=10, epsilon=3, max_iter=1000)\n",
    "\n",
    "rf2 = RandomForestRegressor(n_estimators=50)\n",
    "huber2 = HuberRegressor(alpha=10, epsilon=3, max_iter=1000)\n",
    "\n",
    "rf3 = RandomForestRegressor(n_estimators=50)\n",
    "huber3 = HuberRegressor(alpha=10, epsilon=3, max_iter=1000)\n",
    "\n",
    "# Training\n",
    "rf1.fit(X_train, y_train)\n",
    "rf2.fit(X_train, y_train)\n",
    "rf3.fit(X_train, y_train)\n",
    "\n",
    "huber1.fit(X_train, y_train)\n",
    "huber2.fit(X_train, y_train)\n",
    "huber3.fit(X_train, y_train)\n",
    "\n",
    "# Testing\n",
    "out_y1 = rf1.predict(X_test)\n",
    "mse1 = mean_squared_error(y_test, out_y1)\n",
    "print(\"random forest 1 MSE = {}\".format(mse1))\n",
    "\n",
    "out_y2 = huber1.predict(X_test)\n",
    "mse2 = mean_squared_error(y_test, out_y2)\n",
    "print(\"huber 1 MSE = {}\".format(mse2))\n",
    "\n",
    "out_y3 = rf2.predict(X_test)\n",
    "mse3 = mean_squared_error(y_test, out_y3)\n",
    "print(\"random forest 2 MSE = {}\".format(mse3))\n",
    "\n",
    "out_y4 = huber2.predict(X_test)\n",
    "mse4 = mean_squared_error(y_test, out_y4)\n",
    "print(\"huber 2 MSE = {}\".format(mse4))\n",
    "\n",
    "out_y5 = rf3.predict(X_test)\n",
    "mse5 = mean_squared_error(y_test, out_y5)\n",
    "print(\"random forest 3 MSE = {}\".format(mse5))\n",
    "\n",
    "out_y6 = huber3.predict(X_test)\n",
    "mse6 = mean_squared_error(y_test, out_y6)\n",
    "print(\"huber 3 MSE = {}\".format(mse6))\n",
    "\n",
    "out_y = (out_y1 + out_y2 + out_y3 + out_y4 + out_y5 + out_y6)/6\n",
    "mse = mean_squared_error(y_test,out_y)\n",
    "print(\"Final MSE = {}\".format(mse))"
   ]
  },
  {
   "cell_type": "markdown",
   "metadata": {},
   "source": [
    "## 3.0 Ensemble Model\n",
    "As we've seen from above, we can improve the performance by using multiple models together. But instead of training all the models on the same data, we will split the data to train each model on different portions of the data."
   ]
  },
  {
   "cell_type": "code",
   "execution_count": 18,
   "metadata": {},
   "outputs": [],
   "source": [
    "def buildEnsemble(models, X, y):\n",
    "    numFolds = len(models)\n",
    "    cv = KFold(numFolds, True, 1)\n",
    "    \n",
    "    modelIndex = 0\n",
    "    \n",
    "    for train, test in cv.split(X):\n",
    "        X_train, X_test, y_train, y_test = X[train], X[test], y[train], y[test]\n",
    "        \n",
    "        models[modelIndex].fit(X_train, y_train)\n",
    "        modelIndex = modelIndex + 1\n",
    "        \n",
    "    return models"
   ]
  },
  {
   "cell_type": "code",
   "execution_count": 26,
   "metadata": {},
   "outputs": [],
   "source": [
    "def predictEnsemble(models, X_t, y_t):\n",
    "    output = np.zeros(y_t.shape)\n",
    "    \n",
    "    for model in models:\n",
    "        output = output + model.predict(X_t)\n",
    "        \n",
    "    output = output / len(models)\n",
    "    return output"
   ]
  },
  {
   "cell_type": "code",
   "execution_count": 23,
   "metadata": {},
   "outputs": [
    {
     "name": "stdout",
     "output_type": "stream",
     "text": [
      "Final MSE = 0.1727522498218004\n"
     ]
    }
   ],
   "source": [
    "myModels = [\n",
    "    RandomForestRegressor(n_estimators=100),\n",
    "    HuberRegressor(alpha=10, epsilon=3, max_iter=1000),\n",
    "    RandomForestRegressor(n_estimators=100),\n",
    "    HuberRegressor(alpha=10, epsilon=3, max_iter=1000),\n",
    "    RandomForestRegressor(n_estimators=100),\n",
    "    HuberRegressor(alpha=10, epsilon=3, max_iter=1000),\n",
    "]\n",
    "\n",
    "myModels = buildEnsemble(myModels, X_train, y_train)\n",
    "out = predictEnsemble(myModels, X_test, y_test)\n",
    "\n",
    "mse = mean_squared_error(y_test,out)\n",
    "print(\"Final MSE = {}\".format(mse))"
   ]
  },
  {
   "cell_type": "code",
   "execution_count": null,
   "metadata": {},
   "outputs": [],
   "source": []
  }
 ],
 "metadata": {
  "kernelspec": {
   "display_name": "airbnb_env",
   "language": "python",
   "name": "airbnb_env"
  },
  "language_info": {
   "codemirror_mode": {
    "name": "ipython",
    "version": 3
   },
   "file_extension": ".py",
   "mimetype": "text/x-python",
   "name": "python",
   "nbconvert_exporter": "python",
   "pygments_lexer": "ipython3",
   "version": "3.8.3"
  }
 },
 "nbformat": 4,
 "nbformat_minor": 4
}
